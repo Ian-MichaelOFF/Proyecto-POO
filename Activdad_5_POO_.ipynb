{
  "nbformat": 4,
  "nbformat_minor": 0,
  "metadata": {
    "colab": {
      "provenance": [],
      "include_colab_link": true
    },
    "kernelspec": {
      "name": "python3",
      "display_name": "Python 3"
    },
    "language_info": {
      "name": "python"
    }
  },
  "cells": [
    {
      "cell_type": "markdown",
      "metadata": {
        "id": "view-in-github",
        "colab_type": "text"
      },
      "source": [
        "<a href=\"https://colab.research.google.com/github/Ian-MichaelOFF/Trabajos-Collab/blob/main/Activdad_5_POO_.ipynb\" target=\"_parent\"><img src=\"https://colab.research.google.com/assets/colab-badge.svg\" alt=\"Open In Colab\"/></a>"
      ]
    },
    {
      "cell_type": "code",
      "execution_count": null,
      "metadata": {
        "colab": {
          "base_uri": "https://localhost:8080/"
        },
        "id": "Q1Gu09ewKvAy",
        "outputId": "354ac686-0685-44eb-bc84-a21a9aa9937b"
      },
      "outputs": [
        {
          "output_type": "stream",
          "name": "stdout",
          "text": [
            "Escribe tu Nombre Completo : Pepe Lol\n",
            "Escribe tu Email : ian37420@gmail.com\n",
            "Escribe tu contraseña de 8 caracteres : 1122\n",
            "Contraseña no válida. Debe contener al menos una letra minúscula, una letra mayúscula, un carácter especial y tener al menos 8 caracteres.\n",
            "Escribe tu contraseña de 8 caracteres : PepeLol12\n",
            "Contraseña no válida. Debe contener al menos una letra minúscula, una letra mayúscula, un carácter especial y tener al menos 8 caracteres.\n",
            "Escribe tu contraseña de 8 caracteres : Pepelol12-\n",
            "Escribe tu edad de 0-100: 34\n",
            " !!Datos Del usuario!!\n",
            "El Nombre del usuario es: Pepe Lol\n",
            "El email del usuario es: ian37420@gmail.com\n",
            "La contraseña del usuario es: Pepelol12-\n",
            "La edad del usuario es de: 34\n"
          ]
        }
      ],
      "source": [
        "import re\n",
        "\n",
        "def Nombre_Usuario():\n",
        "  pattern = r\"^[A-Za-z]+(?: [A-Za-z]+)*$\"\n",
        "  while True:\n",
        "    string=input(\"Escribe tu Nombre Completo : \")\n",
        "    if re.match(pattern, string):\n",
        "      return string\n",
        "    else:\n",
        "        print(\"Nombre no valido. Recuerde que debe de ser su nombre completo\")\n",
        "\n",
        "def Email_Usuario():\n",
        "  pattern = r\"^[a-zA-Z0-9._%+-]+@[a-zA-Z0-9.-]+\\.[a-zA-Z]{2,}$\"\n",
        "  while True:\n",
        "    string=input(\"Escribe tu Email : \")\n",
        "    if re.match(pattern, string):\n",
        "      return string\n",
        "    else:\n",
        "        print(\"Email incorrecto. Verifique que lo escribio bien!\")\n",
        "\n",
        "def edadUsuario():\n",
        "  pattern = r\"^(100|[1-9]?[0-9])$\"\n",
        "  bandera=True\n",
        "  while bandera:\n",
        "    string=input(\"Escribe tu edad de 0-100: \")\n",
        "    if re.match(pattern, string):\n",
        "        return int(string)\n",
        "\n",
        "def match_password():\n",
        "  pattern = r\"^(?=.*[a-z])(?=.*[A-Z])(?=.*[\\W]).{8,}$\"\n",
        "  while True:\n",
        "    string=input(\"Escribe tu contraseña de 8 caracteres : \")\n",
        "    if re.match(pattern, string):\n",
        "      return string\n",
        "    else:\n",
        "        print(\"Contraseña no válida. Debe contener al menos una letra minúscula, una letra mayúscula, un carácter especial y tener al menos 8 caracteres.\")\n",
        "\n",
        "Nombre=Nombre_Usuario()\n",
        "Email=Email_Usuario()\n",
        "contraseña=match_password()\n",
        "edad=edadUsuario()\n",
        "\n",
        "\n",
        "print(\" !!Datos Del usuario!!\")\n",
        "\n",
        "print(f\"El Nombre del usuario es: {Nombre}\")\n",
        "print(f\"El email del usuario es: {Email}\")\n",
        "print(f\"La contraseña del usuario es: {contraseña}\" )\n",
        "print(f\"La edad del usuario es de: {edad} Años\")\n",
        "\n",
        "\n",
        "\n"
      ]
    }
  ]
}